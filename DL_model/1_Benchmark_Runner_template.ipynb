{
 "cells": [
  {
   "cell_type": "markdown",
   "metadata": {},
   "source": [
    "# Benchmark for Hybrid methods on Q instances"
   ]
  },
  {
   "cell_type": "code",
   "execution_count": null,
   "metadata": {
    "scrolled": true
   },
   "outputs": [],
   "source": [
    "from utils.BenchmarkRunner import BenchmarkRunner\n",
    "import pandas as pd\n",
    "import numpy as np\n",
    "from pathlib import Path"
   ]
  },
  {
   "cell_type": "code",
   "execution_count": null,
   "metadata": {},
   "outputs": [],
   "source": [
    "MACHINE_NAME = \"Z220_\"\n",
    "DATE = \"20201214_\"\n",
    "\n",
    "FOLDER = './model/'"
   ]
  },
  {
   "cell_type": "code",
   "execution_count": null,
   "metadata": {},
   "outputs": [],
   "source": [
    "benchmark_to_test = pd.read_pickle(FOLDER +'benchmark_to_test_with_uncertainty.pkl')\n",
    "\n",
    "for index, row in benchmark_to_test.iterrows():\n",
    "    benchmark_to_test.at[index, 'mean'] = np.mean(row['pred_makespan'])\n",
    "    benchmark_to_test.at[index, 'std'] = np.std(row['pred_makespan'])\n",
    "\n",
    "multiple = 10\n",
    "benchmark_to_test['str_LB'] = (benchmark_to_test['mean'] - multiple*benchmark_to_test['std']).astype(int).astype(str)\n",
    "benchmark_to_test['str_UB'] = (benchmark_to_test['mean'] + multiple*benchmark_to_test['std']).astype(int).astype(str)\n",
    "benchmark_to_test['str_mean'] = benchmark_to_test['mean'].astype(int).astype(str)\n",
    "benchmark_to_test['str_jumping_step'] = benchmark_to_test['std'].astype(int).astype(str)\n",
    "benchmark_to_test['-LB'] = '-LB'\n",
    "benchmark_to_test['-UB'] = '-UB'\n",
    "benchmark_to_test['-predicted-optimal-makespan'] = '-predicted-optimal-makespan'\n",
    "benchmark_to_test['-jumping-step'] ='-jumping-step'\n",
    "benchmark_to_test['str_closer_to_optimal'] = ((benchmark_to_test['true_makespan'] + benchmark_to_test['mean'])/2).astype(int).astype(str)\n",
    "benchmark_to_test['str_optimal'] = (benchmark_to_test['true_makespan']).astype(int).astype(str)\n",
    "\n",
    "benchmark_to_test.sample(1)"
   ]
  },
  {
   "cell_type": "markdown",
   "metadata": {},
   "source": [
    "## ``job-shop-hybrid-baseline-jump-half-naive`` Model"
   ]
  },
  {
   "cell_type": "code",
   "execution_count": null,
   "metadata": {},
   "outputs": [],
   "source": [
    "LOG_DIR = FOLDER + DATE + MACHINE_NAME + 'baseline_to_test/'\n",
    "CP_PROGRAM_PATH = '../job-shop/job-shop-hybrid-baseline-jump-half-naive'\n",
    "\n",
    "# make the folder\n",
    "Path(LOG_DIR).mkdir(parents=True, exist_ok=True)"
   ]
  },
  {
   "cell_type": "code",
   "execution_count": null,
   "metadata": {},
   "outputs": [],
   "source": [
    "LOG_DIR = FOLDER + DATE + MACHINE_NAME + 'hybrid_baseline_jump_half_naive_to_test/'\n",
    "CP_PROGRAM_PATH = '../job-shop/job-shop-hybrid-baseline-jump-half-naive'\n",
    "\n",
    "# make the folder\n",
    "Path(LOG_DIR).mkdir(parents=True, exist_ok=True)"
   ]
  },
  {
   "cell_type": "code",
   "execution_count": null,
   "metadata": {},
   "outputs": [],
   "source": [
    "benchmark_to_test_list = []\n",
    "\n",
    "for l in benchmark_to_test[['-predicted-optimal-makespan', 'str_mean', 'Instance']].values:\n",
    "# for l in benchmark_to_test[['Instance']].values:\n",
    "    benchmark_to_test_list.append(' '.join(l))\n",
    "    \n",
    "print(\"Length of the benchmark list is {}.\".format(len(benchmark_to_test_list)))\n",
    "print(\"The first two items in the list are {}\".format(benchmark_to_test_list[:2]))"
   ]
  },
  {
   "cell_type": "code",
   "execution_count": null,
   "metadata": {},
   "outputs": [],
   "source": [
    "print('The CP program to use is  {}'.format(CP_PROGRAM_PATH))\n",
    "print('The log folder is         {}'.format(LOG_DIR))\n",
    "#benchmark instance\n",
    "runner = BenchmarkRunner(log_dir=LOG_DIR, exec_path=CP_PROGRAM_PATH, repeat_time=1, warmup_seconds=60)\n",
    "# adding parameters to the runner\n",
    "runner.add_parameter_options({'-branching' : ['afc', 'action', 'chb']})\n",
    "runner.add_parameter_options({'-tbf' : ['0.00']})\n",
    "runner.add_parameter_options({'-time-probe' : ['1000']})\n",
    "runner.add_parameter_options({'-time-adjust' : ['30000']})\n",
    "runner.add_parameter_options({'-time-solve' : ['0']})\n",
    "runner.add_testing_instances(benchmark_to_test_list)"
   ]
  },
  {
   "cell_type": "code",
   "execution_count": null,
   "metadata": {
    "scrolled": true
   },
   "outputs": [],
   "source": [
    "result = runner.run_test()"
   ]
  },
  {
   "cell_type": "markdown",
   "metadata": {},
   "source": [
    "## ``job-shop-hybrid-baseline-jump-half-exhaustive-search`` Model"
   ]
  },
  {
   "cell_type": "code",
   "execution_count": null,
   "metadata": {},
   "outputs": [],
   "source": [
    "LOG_DIR = FOLDER + DATE + MACHINE_NAME + 'hybrid_baseline_jump_half_exhaustive_search_to_test/'\n",
    "CP_PROGRAM_PATH = '../job-shop/job-shop-hybrid-baseline-jump-half-exhaustive-search'\n",
    "\n",
    "# make the folder\n",
    "Path(LOG_DIR).mkdir(parents=True, exist_ok=True)"
   ]
  },
  {
   "cell_type": "code",
   "execution_count": null,
   "metadata": {},
   "outputs": [],
   "source": [
    "benchmark_to_test_list = []\n",
    "\n",
    "for l in benchmark_to_test[['-predicted-optimal-makespan', 'str_mean', 'Instance']].values:\n",
    "# for l in benchmark_to_test[['Instance']].values:\n",
    "    benchmark_to_test_list.append(' '.join(l))\n",
    "    \n",
    "print(\"Length of the benchmark list is {}.\".format(len(benchmark_to_test_list)))\n",
    "print(\"The first two items in the list are {}\".format(benchmark_to_test_list[:2]))"
   ]
  },
  {
   "cell_type": "code",
   "execution_count": null,
   "metadata": {},
   "outputs": [],
   "source": [
    "print('The CP program to use is  {}'.format(CP_PROGRAM_PATH))\n",
    "print('The log folder is         {}'.format(LOG_DIR))\n",
    "#benchmark instance\n",
    "runner = BenchmarkRunner(log_dir=LOG_DIR, exec_path=CP_PROGRAM_PATH, repeat_time=1, warmup_seconds=60)\n",
    "# adding parameters to the runner\n",
    "runner.add_parameter_options({'-branching' : ['afc', 'action', 'chb']})\n",
    "runner.add_parameter_options({'-tbf' : ['0.00']})\n",
    "runner.add_parameter_options({'-time-probe' : ['1000']})\n",
    "runner.add_parameter_options({'-time-adjust' : ['30000']})\n",
    "runner.add_parameter_options({'-time-solve' : ['0']})\n",
    "runner.add_testing_instances(benchmark_to_test_list)"
   ]
  },
  {
   "cell_type": "code",
   "execution_count": null,
   "metadata": {},
   "outputs": [],
   "source": [
    "result = runner.run_test()"
   ]
  },
  {
   "cell_type": "markdown",
   "metadata": {},
   "source": [
    "## ``job-shop-hybrid-baseline-jump-std-naive`` Model"
   ]
  },
  {
   "cell_type": "code",
   "execution_count": null,
   "metadata": {},
   "outputs": [],
   "source": [
    "LOG_DIR = FOLDER + DATE + MACHINE_NAME + 'hybrid_baseline_jump_std_naive_to_test/'\n",
    "CP_PROGRAM_PATH = '../job-shop/job-shop-hybrid-baseline-jump-std-naive'\n",
    "\n",
    "# make the folder\n",
    "Path(LOG_DIR).mkdir(parents=True, exist_ok=True)"
   ]
  },
  {
   "cell_type": "code",
   "execution_count": null,
   "metadata": {},
   "outputs": [],
   "source": [
    "benchmark_to_test_list = []\n",
    "\n",
    "for l in benchmark_to_test[['-predicted-optimal-makespan', 'str_mean', '-jumping-step', 'std', 'Instance']].values:\n",
    "    l[3] = str(round(l[3]))\n",
    "    benchmark_to_test_list.append(' '.join(l))\n",
    "    \n",
    "print(\"Length of the benchmark list is {}.\".format(len(benchmark_to_test_list)))\n",
    "print(\"The first two items in the list are {}\".format(benchmark_to_test_list[:2]))"
   ]
  },
  {
   "cell_type": "code",
   "execution_count": null,
   "metadata": {},
   "outputs": [],
   "source": [
    "print('The CP program to use is  {}'.format(CP_PROGRAM_PATH))\n",
    "print('The log folder is         {}'.format(LOG_DIR))\n",
    "#benchmark instance\n",
    "runner = BenchmarkRunner(log_dir=LOG_DIR, exec_path=CP_PROGRAM_PATH, repeat_time=1, warmup_seconds=60)\n",
    "# adding parameters to the runner\n",
    "runner.add_parameter_options({'-branching' : ['afc', 'action', 'chb']})\n",
    "runner.add_parameter_options({'-tbf' : ['0.00']})\n",
    "runner.add_parameter_options({'-time-probe' : ['1000']})\n",
    "runner.add_parameter_options({'-time-adjust' : ['30000']})\n",
    "runner.add_parameter_options({'-time-solve' : ['0']})\n",
    "runner.add_testing_instances(benchmark_to_test_list)"
   ]
  },
  {
   "cell_type": "code",
   "execution_count": null,
   "metadata": {},
   "outputs": [],
   "source": [
    "result = runner.run_test()"
   ]
  },
  {
   "cell_type": "markdown",
   "metadata": {},
   "source": [
    "## ``job-shop-hybrid-baseline-jump-std-exhaustive-search`` Model"
   ]
  },
  {
   "cell_type": "code",
   "execution_count": null,
   "metadata": {},
   "outputs": [],
   "source": [
    "LOG_DIR = FOLDER + DATE + MACHINE_NAME + 'hybrid_baseline_jump_std_exhaustive_search_to_test/'\n",
    "CP_PROGRAM_PATH = '../job-shop/job-shop-hybrid-baseline-jump-std-exhaustive-search'\n",
    "\n",
    "# make the folder\n",
    "Path(LOG_DIR).mkdir(parents=True, exist_ok=True)"
   ]
  },
  {
   "cell_type": "code",
   "execution_count": null,
   "metadata": {},
   "outputs": [],
   "source": [
    "benchmark_to_test_list = []\n",
    "\n",
    "for l in benchmark_to_test[['-predicted-optimal-makespan', 'str_mean', '-jumping-step', 'std', 'Instance']].values:\n",
    "    l[3] = str(round(l[3]))\n",
    "    benchmark_to_test_list.append(' '.join(l))\n",
    "    \n",
    "print(\"Length of the benchmark list is {}.\".format(len(benchmark_to_test_list)))\n",
    "print(\"The first two items in the list are {}\".format(benchmark_to_test_list[:2]))"
   ]
  },
  {
   "cell_type": "code",
   "execution_count": null,
   "metadata": {},
   "outputs": [],
   "source": [
    "print('The CP program to use is  {}'.format(CP_PROGRAM_PATH))\n",
    "print('The log folder is         {}'.format(LOG_DIR))\n",
    "#benchmark instance\n",
    "runner = BenchmarkRunner(log_dir=LOG_DIR, exec_path=CP_PROGRAM_PATH, repeat_time=1, warmup_seconds=60)\n",
    "# adding parameters to the runner\n",
    "runner.add_parameter_options({'-branching' : ['afc', 'action', 'chb']})\n",
    "runner.add_parameter_options({'-tbf' : ['0.00']})\n",
    "runner.add_parameter_options({'-time-probe' : ['1000']})\n",
    "runner.add_parameter_options({'-time-adjust' : ['30000']})\n",
    "runner.add_parameter_options({'-time-solve' : ['0']})\n",
    "runner.add_testing_instances(benchmark_to_test_list)"
   ]
  },
  {
   "cell_type": "code",
   "execution_count": null,
   "metadata": {},
   "outputs": [],
   "source": [
    "result = runner.run_test()"
   ]
  },
  {
   "cell_type": "markdown",
   "metadata": {},
   "source": [
    "## ``job-shop-hybrid-baseline-jump-3std-naive`` Model"
   ]
  },
  {
   "cell_type": "code",
   "execution_count": null,
   "metadata": {},
   "outputs": [],
   "source": [
    "LOG_DIR = FOLDER + DATE + MACHINE_NAME + 'hybrid_baseline_jump_3std_naive_to_test/'\n",
    "CP_PROGRAM_PATH = '../job-shop/job-shop-hybrid-baseline-jump-std-naive'\n",
    "\n",
    "# make the folder\n",
    "Path(LOG_DIR).mkdir(parents=True, exist_ok=True)"
   ]
  },
  {
   "cell_type": "code",
   "execution_count": null,
   "metadata": {},
   "outputs": [],
   "source": [
    "benchmark_to_test_list = []\n",
    "\n",
    "for l in benchmark_to_test[['-predicted-optimal-makespan', 'str_mean', '-jumping-step', 'std', 'Instance']].values:\n",
    "    l[3] = str(round(3*l[3]))\n",
    "    benchmark_to_test_list.append(' '.join(l))\n",
    "    \n",
    "print(\"Length of the benchmark list is {}.\".format(len(benchmark_to_test_list)))\n",
    "print(\"The first two items in the list are {}\".format(benchmark_to_test_list[:2]))"
   ]
  },
  {
   "cell_type": "code",
   "execution_count": null,
   "metadata": {},
   "outputs": [],
   "source": [
    "print('The CP program to use is  {}'.format(CP_PROGRAM_PATH))\n",
    "print('The log folder is         {}'.format(LOG_DIR))\n",
    "#benchmark instance\n",
    "runner = BenchmarkRunner(log_dir=LOG_DIR, exec_path=CP_PROGRAM_PATH, repeat_time=1, warmup_seconds=60)\n",
    "# adding parameters to the runner\n",
    "runner.add_parameter_options({'-branching' : ['afc', 'action', 'chb']})\n",
    "runner.add_parameter_options({'-tbf' : ['0.00']})\n",
    "runner.add_parameter_options({'-time-probe' : ['1000']})\n",
    "runner.add_parameter_options({'-time-adjust' : ['30000']})\n",
    "runner.add_parameter_options({'-time-solve' : ['0']})\n",
    "runner.add_testing_instances(benchmark_to_test_list)"
   ]
  },
  {
   "cell_type": "code",
   "execution_count": null,
   "metadata": {},
   "outputs": [],
   "source": [
    "result = runner.run_test()"
   ]
  },
  {
   "cell_type": "markdown",
   "metadata": {},
   "source": [
    "## ``job-shop-hybrid-baseline-jump-5std-naive`` Model"
   ]
  },
  {
   "cell_type": "code",
   "execution_count": null,
   "metadata": {},
   "outputs": [],
   "source": [
    "LOG_DIR = FOLDER + DATE + MACHINE_NAME + 'hybrid_baseline_jump_5std_naive_to_test/'\n",
    "CP_PROGRAM_PATH = '../job-shop/job-shop-hybrid-baseline-jump-std-naive'\n",
    "\n",
    "# make the folder\n",
    "Path(LOG_DIR).mkdir(parents=True, exist_ok=True)"
   ]
  },
  {
   "cell_type": "code",
   "execution_count": null,
   "metadata": {},
   "outputs": [],
   "source": [
    "benchmark_to_test_list = []\n",
    "\n",
    "for l in benchmark_to_test[['-predicted-optimal-makespan', 'str_mean', '-jumping-step', 'std', 'Instance']].values:\n",
    "    l[3] = str(round(5*l[3]))\n",
    "    benchmark_to_test_list.append(' '.join(l))\n",
    "    \n",
    "print(\"Length of the benchmark list is {}.\".format(len(benchmark_to_test_list)))\n",
    "print(\"The first two items in the list are {}\".format(benchmark_to_test_list[:2]))"
   ]
  },
  {
   "cell_type": "code",
   "execution_count": null,
   "metadata": {},
   "outputs": [],
   "source": [
    "print('The CP program to use is  {}'.format(CP_PROGRAM_PATH))\n",
    "print('The log folder is         {}'.format(LOG_DIR))\n",
    "#benchmark instance\n",
    "runner = BenchmarkRunner(log_dir=LOG_DIR, exec_path=CP_PROGRAM_PATH, repeat_time=1, warmup_seconds=60)\n",
    "# adding parameters to the runner\n",
    "runner.add_parameter_options({'-branching' : ['afc', 'action', 'chb']})\n",
    "runner.add_parameter_options({'-tbf' : ['0.00']})\n",
    "runner.add_parameter_options({'-time-probe' : ['1000']})\n",
    "runner.add_parameter_options({'-time-adjust' : ['30000']})\n",
    "runner.add_parameter_options({'-time-solve' : ['0']})\n",
    "runner.add_testing_instances(benchmark_to_test_list)"
   ]
  },
  {
   "cell_type": "code",
   "execution_count": null,
   "metadata": {},
   "outputs": [],
   "source": [
    "result = runner.run_test()"
   ]
  },
  {
   "cell_type": "markdown",
   "metadata": {},
   "source": [
    "## ``job-shop-hybrid-baseline-jump-3std-exhaustive-search`` Model"
   ]
  },
  {
   "cell_type": "code",
   "execution_count": null,
   "metadata": {},
   "outputs": [],
   "source": [
    "LOG_DIR = FOLDER + DATE + MACHINE_NAME + 'hybrid_baseline_jump_3std_exhaustive_search_to_test/'\n",
    "CP_PROGRAM_PATH = '../job-shop/job-shop-hybrid-baseline-jump-std-exhaustive-search'\n",
    "\n",
    "# make the folder\n",
    "Path(LOG_DIR).mkdir(parents=True, exist_ok=True)"
   ]
  },
  {
   "cell_type": "code",
   "execution_count": null,
   "metadata": {},
   "outputs": [],
   "source": [
    "benchmark_to_test_list = []\n",
    "\n",
    "for l in benchmark_to_test[['-predicted-optimal-makespan', 'str_mean', '-jumping-step', 'std', 'Instance']].values:\n",
    "    l[3] = str(3*round(l[3]))\n",
    "    benchmark_to_test_list.append(' '.join(l))\n",
    "    \n",
    "print(\"Length of the benchmark list is {}.\".format(len(benchmark_to_test_list)))\n",
    "print(\"The first two items in the list are {}\".format(benchmark_to_test_list[:2]))"
   ]
  },
  {
   "cell_type": "code",
   "execution_count": null,
   "metadata": {},
   "outputs": [],
   "source": [
    "print('The CP program to use is  {}'.format(CP_PROGRAM_PATH))\n",
    "print('The log folder is         {}'.format(LOG_DIR))\n",
    "#benchmark instance\n",
    "runner = BenchmarkRunner(log_dir=LOG_DIR, exec_path=CP_PROGRAM_PATH, repeat_time=1, warmup_seconds=60)\n",
    "# adding parameters to the runner\n",
    "runner.add_parameter_options({'-branching' : ['afc', 'action', 'chb']})\n",
    "runner.add_parameter_options({'-tbf' : ['0.00']})\n",
    "runner.add_parameter_options({'-time-probe' : ['1000']})\n",
    "runner.add_parameter_options({'-time-adjust' : ['30000']})\n",
    "runner.add_parameter_options({'-time-solve' : ['0']})\n",
    "runner.add_testing_instances(benchmark_to_test_list)"
   ]
  },
  {
   "cell_type": "code",
   "execution_count": null,
   "metadata": {},
   "outputs": [],
   "source": [
    "result = runner.run_test()"
   ]
  },
  {
   "cell_type": "markdown",
   "metadata": {},
   "source": [
    "## ``job-shop-hybrid-baseline-jump-5std-exhaustive-search`` Model"
   ]
  },
  {
   "cell_type": "code",
   "execution_count": null,
   "metadata": {},
   "outputs": [],
   "source": [
    "LOG_DIR = FOLDER + DATE + MACHINE_NAME + 'hybrid_baseline_jump_5std_exhaustive_search_to_test/'\n",
    "CP_PROGRAM_PATH = '../job-shop/job-shop-hybrid-baseline-jump-std-exhaustive-search'\n",
    "\n",
    "# make the folder\n",
    "Path(LOG_DIR).mkdir(parents=True, exist_ok=True)"
   ]
  },
  {
   "cell_type": "code",
   "execution_count": null,
   "metadata": {},
   "outputs": [],
   "source": [
    "benchmark_to_test_list = []\n",
    "\n",
    "for l in benchmark_to_test[['-predicted-optimal-makespan', 'str_mean', '-jumping-step', 'std', 'Instance']].values:\n",
    "    l[3] = str(5*round(l[3]))\n",
    "    benchmark_to_test_list.append(' '.join(l))\n",
    "    \n",
    "print(\"Length of the benchmark list is {}.\".format(len(benchmark_to_test_list)))\n",
    "print(\"The first two items in the list are {}\".format(benchmark_to_test_list[:2]))"
   ]
  },
  {
   "cell_type": "code",
   "execution_count": null,
   "metadata": {},
   "outputs": [],
   "source": [
    "print('The CP program to use is  {}'.format(CP_PROGRAM_PATH))\n",
    "print('The log folder is         {}'.format(LOG_DIR))\n",
    "#benchmark instance\n",
    "runner = BenchmarkRunner(log_dir=LOG_DIR, exec_path=CP_PROGRAM_PATH, repeat_time=1, warmup_seconds=60)\n",
    "# adding parameters to the runner\n",
    "runner.add_parameter_options({'-branching' : ['afc', 'action', 'chb']})\n",
    "runner.add_parameter_options({'-tbf' : ['0.00']})\n",
    "runner.add_parameter_options({'-time-probe' : ['1000']})\n",
    "runner.add_parameter_options({'-time-adjust' : ['30000']})\n",
    "runner.add_parameter_options({'-time-solve' : ['0']})\n",
    "runner.add_testing_instances(benchmark_to_test_list)"
   ]
  },
  {
   "cell_type": "code",
   "execution_count": null,
   "metadata": {},
   "outputs": [],
   "source": [
    "result = runner.run_test()"
   ]
  },
  {
   "cell_type": "markdown",
   "metadata": {},
   "source": [
    "# The END"
   ]
  }
 ],
 "metadata": {
  "kernelspec": {
   "display_name": "Python 3",
   "language": "python",
   "name": "python3"
  },
  "language_info": {
   "codemirror_mode": {
    "name": "ipython",
    "version": 3
   },
   "file_extension": ".py",
   "mimetype": "text/x-python",
   "name": "python",
   "nbconvert_exporter": "python",
   "pygments_lexer": "ipython3",
   "version": "3.8.5"
  }
 },
 "nbformat": 4,
 "nbformat_minor": 4
}
